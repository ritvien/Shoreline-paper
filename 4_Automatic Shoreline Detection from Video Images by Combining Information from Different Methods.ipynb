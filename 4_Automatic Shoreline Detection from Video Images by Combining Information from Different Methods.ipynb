{
 "cells": [
  {
   "cell_type": "markdown",
   "id": "40af2954",
   "metadata": {},
   "source": [
    "# Data"
   ]
  },
  {
   "cell_type": "markdown",
   "id": "d7698ee9",
   "metadata": {},
   "source": [
    "## Image"
   ]
  },
  {
   "cell_type": "markdown",
   "id": "25ceb7cc",
   "metadata": {},
   "source": [
    "Ảnh lấy từ các trạm giám sát video\n",
    "* Trạm **CFA**: 5 camera cao 30m\n",
    "* Trạm **BCN**: 6 camera cao 142m\n",
    "* 3 loại hình ảnh mỗi giờ vào ban ngày:\n",
    "    * ảnh chụp nhanh (snapshot)\n",
    "    * ảnh phơi sáng thời gian (timex)\n",
    "    * ảnh phương sai (variance)\n",
    "* Môi trường **không có thủy triều $\\rightarrow$ $z = z_{msl}$ (mean sea level)**\n",
    "* hơn 15 ground control points để hiệu chuẩn ảnh từ camera\n",
    "* **2pixels/meter**"
   ]
  },
  {
   "cell_type": "markdown",
   "id": "c3c5c3e1",
   "metadata": {},
   "source": [
    "## Label"
   ]
  },
  {
   "cell_type": "markdown",
   "id": "696a510b",
   "metadata": {},
   "source": [
    "* **143 planviews** đường bở biển được đánh dấu bởi **3 chuyên gia** để nghiên cứu sự biến đổi **trong năm** và **trong ngày**:\n",
    "    * Trong năm: 1 ảnh vào trưa ngày 15 mỗi tháng từ 2015 $\\rightarrow$ 2017\n",
    "    * Trong ngày: 18 ngày khác nhau (chủ yếu vào mua đông để kiểm tra trong đk sóng lớn, độ cao mặt trời thấp)"
   ]
  },
  {
   "cell_type": "markdown",
   "id": "cba6fed0",
   "metadata": {
    "ExecuteTime": {
     "end_time": "2025-03-10T16:33:25.749180Z",
     "start_time": "2025-03-10T16:33:25.733157Z"
    }
   },
   "source": [
    "* RMSE của 3 experts tương đối thấp, khoảng **2-3pixel ~ 1-1.5m**"
   ]
  },
  {
   "cell_type": "markdown",
   "id": "181a0ce3",
   "metadata": {},
   "source": [
    "# Automatic Shoreline Detection\n"
   ]
  },
  {
   "cell_type": "markdown",
   "id": "81622340",
   "metadata": {
    "ExecuteTime": {
     "end_time": "2025-03-10T16:45:46.221484Z",
     "start_time": "2025-03-10T16:45:46.211438Z"
    }
   },
   "source": [
    "## Raw Shorelines"
   ]
  },
  {
   "cell_type": "markdown",
   "id": "e1ba8371",
   "metadata": {},
   "source": [
    "**4 different channels** of planview image được sử dụng:\n",
    "* 🎨 **Hue (Sắc độ)**: Biểu thị màu sắc, có thể giúp phân biệt màu nước biển (thường xanh lam hoặc lục) với màu đất liền (thường vàng, nâu hoặc xanh lục đậm).\n",
    "* 🌈 **Saturation (Độ bão hòa)**: Đo độ tinh khiết của màu sắc. Nước biển thường có độ bão hòa thấp hơn so với đất liền\n",
    "* 💡**Value (Độ sáng)**: Xác định mức độ sáng của pixel, giúp phân biệt giữa các vùng sáng như bãi cát và vùng tối hơn như mặt nước sâu (sử dụng SLIM algorithm, rất hữu ích khi có ánh năng chói)\n",
    "* 🔴🟢**Red/Green**:\n",
    "    * Red:  Đất liền, đặc biệt là cát và thực vật, thường có giá trị cao hơn trong kênh đỏ so với nước biển.\n",
    "    * Green: Nước biển có thể có giá trị cao hơn trong kênh xanh lá do tính phản xạ của nước."
   ]
  },
  {
   "cell_type": "markdown",
   "id": "bd9ff15d",
   "metadata": {},
   "source": [
    "👀 Cách **detect shoreline với từng kênh**:\n",
    "* **Hue**: gradient cực đại từ đất ra biển\n",
    "* **Saturation**: gradient cực đại từ biển vào đất\n",
    "* **Value(HSV)**: gradient tuyệt đối cực đại\n",
    "* **Red/Green**: gradient tuyệt đối cực đại"
   ]
  },
  {
   "cell_type": "markdown",
   "id": "9580243e",
   "metadata": {},
   "source": [
    "⚠️ Các giá trị này được làm mượt bằng **bộ lọc Butterworth** với độ dài đặc trưng 15m để giảm nhiễu"
   ]
  },
  {
   "cell_type": "markdown",
   "id": "445d27ca",
   "metadata": {},
   "source": [
    "## Weighted Combination of the Raw Shorelines"
   ]
  },
  {
   "cell_type": "markdown",
   "id": "94c1d977",
   "metadata": {},
   "source": [
    "### Combination"
   ]
  },
  {
   "cell_type": "markdown",
   "id": "3539624f",
   "metadata": {
    "ExecuteTime": {
     "end_time": "2025-03-11T15:51:46.489788Z",
     "start_time": "2025-03-11T15:51:46.471735Z"
    }
   },
   "source": [
    "**1️⃣ Xây dựng ma trận raw shorelines**"
   ]
  },
  {
   "cell_type": "markdown",
   "id": "144e9449",
   "metadata": {},
   "source": [
    "Ký hiệu:  $D_{ij}^k$ với:\n",
    "* $k$ là chỉ số phương pháp (Hue, Saturation, Value, R/G)\n",
    "* $i$ là chỉ số transect (đường cắt vuông góc với bờ biển)\n",
    "* $j$ là thời điểm quan sát"
   ]
  },
  {
   "cell_type": "markdown",
   "id": "1a125507",
   "metadata": {},
   "source": [
    "**2️⃣ Làm mượt dữ liệu bằng Butterwoth**"
   ]
  },
  {
   "cell_type": "markdown",
   "id": "13f3cf09",
   "metadata": {},
   "source": [
    "* tạo ra một bản làm mượt: $\\bar{D}_{ij}^k$\n",
    "* tính sai số để đo độ tin cậy:\n",
    "$$ e_{ij}^k = | D_{ij}^k - \\bar{D}_{ij}^k | $$"
   ]
  },
  {
   "cell_type": "markdown",
   "id": "a076f8c1",
   "metadata": {},
   "source": [
    "> Độ lệch tuyệt đối"
   ]
  },
  {
   "cell_type": "markdown",
   "id": "1ff9601b",
   "metadata": {},
   "source": [
    "3️⃣ **Tính trọng số cho từng phương pháp**"
   ]
  },
  {
   "cell_type": "markdown",
   "id": "e9b01271",
   "metadata": {},
   "source": [
    "* Gán trọng số $w_{ij}^k$ cho từng phương pháp:\n",
    "$$ w_{ij}^k = \\frac{1}{(e_{ij}^k + \\epsilon)^2} $$"
   ]
  },
  {
   "cell_type": "markdown",
   "id": "331e335e",
   "metadata": {},
   "source": [
    "trong đó $\\epsilon = 10^{-6}px$ để tránh chia cho 0"
   ]
  },
  {
   "cell_type": "markdown",
   "id": "66e9e1f2",
   "metadata": {},
   "source": [
    "> 💡 Sai số càng nhiều thì trọng số càng bé "
   ]
  },
  {
   "cell_type": "markdown",
   "id": "4acfab31",
   "metadata": {},
   "source": [
    "4️⃣ **Kết hợp các đường bờ biển thô**"
   ]
  },
  {
   "cell_type": "markdown",
   "id": "a87c211d",
   "metadata": {},
   "source": [
    "* Lấy trung bình có trọng số của các phương pháp:\n",
    "$$ D_{ij}^c = \\frac{\\sum_k w_{ij}^kD_{ij}^k}{\\sum_kw_{ij}^k} $$"
   ]
  },
  {
   "cell_type": "markdown",
   "id": "5c791e1b",
   "metadata": {},
   "source": [
    "### Error (check quality)"
   ]
  },
  {
   "cell_type": "markdown",
   "id": "be8b3233",
   "metadata": {},
   "source": [
    "1️⃣**Sai số phương pháp thô với đường bờ kết hợp**:"
   ]
  },
  {
   "cell_type": "markdown",
   "id": "d4f3fd91",
   "metadata": {},
   "source": [
    "$$ E_{ij}^{c0} = \\sqrt{ \\frac{\\sum_k w_{ij}^k(D_{ij}^k - D_{ij}^c)^2}{\\sum_kw_{ij}^k} } \\tag{1}$$"
   ]
  },
  {
   "cell_type": "markdown",
   "id": "a94fda9b",
   "metadata": {},
   "source": [
    "2️⃣**Sai số về độ mượt của đường bờ**"
   ]
  },
  {
   "cell_type": "markdown",
   "id": "77532cdb",
   "metadata": {},
   "source": [
    "$$ E_{ij}^{c1} = |D_{ij}^k - D_{ij}^c|\\tag{2}$$"
   ]
  },
  {
   "cell_type": "markdown",
   "id": "7781ee55",
   "metadata": {},
   "source": [
    "3️⃣**Tổng sai số**:  \n",
    "$$ (1) + (2): E_{ij}^c = E_{ij}^{c0} + E_{ij}^{c1} $$"
   ]
  },
  {
   "cell_type": "markdown",
   "id": "843b4af0",
   "metadata": {},
   "source": [
    "> set ngưỡng sai số tối đa cho phép: $E^c < 10px$ nếu không thỏa mãn thì bỏ"
   ]
  },
  {
   "cell_type": "markdown",
   "id": "402d1a35",
   "metadata": {},
   "source": [
    "### Filtering"
   ]
  },
  {
   "cell_type": "markdown",
   "id": "95189285",
   "metadata": {},
   "source": [
    "*Lọc không gian và thời gian*"
   ]
  },
  {
   "cell_type": "markdown",
   "id": "c129b6b9",
   "metadata": {},
   "source": [
    "1️⃣ **Trọng số** cho từng điểm:  \n",
    "$$ w_{ij}^c = \\frac{1}/{(E_{ij}^c + \\epsilon)^2} $$"
   ]
  },
  {
   "cell_type": "markdown",
   "id": "6bd8b7c9",
   "metadata": {},
   "source": [
    "2️⃣ **Lọc theo thời gian**:  \n",
    "\n",
    "*Sử dụng trung bình động $l$ thời điểm gần nhất*:\n",
    "$$ D_{ij}^{f0} = \\frac{\\sum_l w_{il}^c D_{il}^c}{\\sum_l w_{il}^c} $$"
   ]
  },
  {
   "cell_type": "markdown",
   "id": "3b69bab7",
   "metadata": {},
   "source": [
    "* $l$ là các thời điểm gần $j$"
   ]
  },
  {
   "cell_type": "markdown",
   "id": "d33d3e24",
   "metadata": {},
   "source": [
    "> loại bỏ nhiễu do ánh sáng thay đổi theo thời gian"
   ]
  },
  {
   "cell_type": "markdown",
   "id": "4dfa04cc",
   "metadata": {},
   "source": [
    "3️⃣ **Lọc theo không gian**:  \n",
    "\n",
    "*Sử dụng trung bình động $l$ transect gần nhất*:\n",
    "$$ D_{ij}^{f} = \\frac{\\sum_l w_{lj}^c D_{lj}^{f0}}{\\sum_l w_{lj}^c} $$"
   ]
  },
  {
   "cell_type": "markdown",
   "id": "4556a33b",
   "metadata": {},
   "source": [
    "⚠️ Lưu ý là lấy D sau lọc thời gian để lọc không gian"
   ]
  },
  {
   "cell_type": "markdown",
   "id": "96cd8a49",
   "metadata": {},
   "source": [
    "4️⃣**Tổng hợp sai số**:  \n",
    "\n",
    "*Trung bình của ss không gian với thời gian:*  \n",
    "$$ E^f_{ij} = \\frac{1}{2} \\left[ \\frac{\\sum_l w^c_{il} E^c_{il}}{\\sum_l w^c_{il}} + \\frac{\\sum_l w^c_{lj} E^c_{lj}}{\\sum_l w^c_{lj}} \\right]\n",
    " $$"
   ]
  },
  {
   "cell_type": "markdown",
   "id": "9d9239bf",
   "metadata": {},
   "source": [
    "# Xem lại cách lấy điểm và bỏ điểm"
   ]
  },
  {
   "cell_type": "markdown",
   "id": "1ae3910f",
   "metadata": {},
   "source": [
    "# Trang 11"
   ]
  },
  {
   "cell_type": "markdown",
   "id": "8c4579de",
   "metadata": {},
   "source": [
    "# Results"
   ]
  },
  {
   "cell_type": "markdown",
   "id": "ffe0ffd3",
   "metadata": {},
   "source": []
  }
 ],
 "metadata": {
  "kernelspec": {
   "display_name": "Python 3 (ipykernel)",
   "language": "python",
   "name": "python3"
  },
  "language_info": {
   "codemirror_mode": {
    "name": "ipython",
    "version": 3
   },
   "file_extension": ".py",
   "mimetype": "text/x-python",
   "name": "python",
   "nbconvert_exporter": "python",
   "pygments_lexer": "ipython3",
   "version": "3.9.13"
  },
  "toc": {
   "base_numbering": 1,
   "nav_menu": {},
   "number_sections": true,
   "sideBar": true,
   "skip_h1_title": false,
   "title_cell": "Table of Contents",
   "title_sidebar": "Contents",
   "toc_cell": false,
   "toc_position": {},
   "toc_section_display": true,
   "toc_window_display": false
  }
 },
 "nbformat": 4,
 "nbformat_minor": 5
}
