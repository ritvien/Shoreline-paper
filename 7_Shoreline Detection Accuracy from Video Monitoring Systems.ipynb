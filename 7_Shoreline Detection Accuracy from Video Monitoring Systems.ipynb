{
 "cells": [
  {
   "cell_type": "markdown",
   "id": "3c60ce09",
   "metadata": {},
   "source": [
    "> Contribution chính là đề xuất thuật toán để loại bỏ dịch chuyển, biến dạng ảnh không mong muốn của camera theo thời gian, đảm bảo các vị trí trong ảnh không bị thay đổi do các yếu tố bên ngoài (gió, nhiệt độ, ...)"
   ]
  },
  {
   "cell_type": "markdown",
   "id": "c118afe0",
   "metadata": {},
   "source": [
    "# Data"
   ]
  },
  {
   "cell_type": "markdown",
   "id": "972f0e26",
   "metadata": {},
   "source": [
    "* **Cao 43m**, cách đê chắn sóng 300m, cách bờ biển 100m về phía đất liền\n",
    "* Tập trung camera **C1** bao phủ **75% bờ biển** dài **1.7km**\n",
    "* Camera được quản lý bởi app **SIRENA** ghi hình ảnh theo 3 chế độ:\n",
    "    * **Snapshot**: ảnh chụp tức thời\n",
    "    * **Time exposure**: ảnh trung bình theo thời gian\n",
    "    * **Standard deviation**: ảnh phương sai chuẩn\n",
    "* Cứ mỗi **30 phút**, camera ghi lại ảnh trong **10 phút** với tốc độ **7.5Hz**"
   ]
  },
  {
   "cell_type": "markdown",
   "id": "33415797",
   "metadata": {},
   "source": [
    "* Mực nước biển thay đổi theo mùa\n",
    "* Có điều kiện nhật triều, biên độ mùa xuân là 75m\n",
    "* Bãi biển **bồi tụ 6m/năm**\n"
   ]
  },
  {
   "cell_type": "markdown",
   "id": "5932cf6c",
   "metadata": {},
   "source": [
    "* Máy đo thủy triều **ADCP** đặt ở độ sâu 10m, cách bờ biển 10km"
   ]
  },
  {
   "cell_type": "markdown",
   "id": "207293c6",
   "metadata": {},
   "source": [
    "* Bãi biển kéo dài **2km** (với **20 cross-shore** transects with spacing of **100m**) "
   ]
  },
  {
   "cell_type": "markdown",
   "id": "20987a0c",
   "metadata": {},
   "source": [
    "# Method"
   ]
  },
  {
   "cell_type": "markdown",
   "id": "3de14d7f",
   "metadata": {},
   "source": [
    "## Environmental conditions"
   ]
  },
  {
   "cell_type": "markdown",
   "id": "bea6a968",
   "metadata": {},
   "source": [
    "* Mức nước được tổng hợp lại bằng công thức:\n",
    "$$ z_{total} = z_{gauge} + z_w + \\frac{S}{2} $$"
   ]
  },
  {
   "cell_type": "markdown",
   "id": "d43870dd",
   "metadata": {},
   "source": [
    "trong đó:\n",
    "* $z_{gauge}$ là mực nước đo được từ máy đo **thủy triều**\n",
    "* $z_w$ là mức nước dâng do **sóng** (wave setup):\n",
    "$$ z_w = 0.016(H_0L_0)^{\\frac{1}{2}} $$\n",
    "* $S$ là **độ cao dao động** của nước do **sóng**:  \n",
    "$$ S = 0.046(H_0L_0)^{\\frac{1}{2}} $$"
   ]
  },
  {
   "cell_type": "markdown",
   "id": "e2544ff6",
   "metadata": {},
   "source": [
    "* Ngoài ra các yếu tố khí hậu: **gió mùa, không khí lạnh, bão** ảnh hưởng đáng kể đến sự thay đổi của đường bờ"
   ]
  },
  {
   "cell_type": "markdown",
   "id": "16622533",
   "metadata": {},
   "source": [
    "## Quá trình xử lý hình ảnh"
   ]
  },
  {
   "cell_type": "markdown",
   "id": "a35c7186",
   "metadata": {},
   "source": [
    "1️⃣**Image Stabilization Algorithm**"
   ]
  },
  {
   "cell_type": "markdown",
   "id": "937b59a0",
   "metadata": {},
   "source": [
    "* ✍️ defining the **unstabilized image** to be corrected and **its closest stabilized image** in time from the **database** of monthly  reference images"
   ]
  },
  {
   "cell_type": "markdown",
   "id": "a26e033d",
   "metadata": {},
   "source": [
    "* ✂️ Mỗi ảnh được tách thành **2 ROI** và được xử lý riêng biệt bởi **SURF**:\n",
    "    * **ROI 1** ở gần, dễ phát hiện đặc trưng hơn\n",
    "    * **ROI 2** ở xa, giảm ngưỡng threshold để cân bằng số đặc trưng"
   ]
  },
  {
   "cell_type": "markdown",
   "id": "e3f9bb5f",
   "metadata": {},
   "source": [
    "* 🔢 **SURF**:\n",
    "    * `Detect features`: thường là góc, cạnh, điểm có độ tương phản cao, dựa vào bộ lọc **Haar wavelet** để tìm vùng có thay đổi mạnh về cường độ sáng\n",
    "    * `Extract features`: tạo **feature descriptor** cho mỗi điểm đặc trưng\n",
    "    * `Find mathching features`: tính khoảng cách **Euclide** giữa **descriptor** giữa ảnh cần ổn định và ảnh tham chiếu, nếu 2 điểm có khoảng cách đủ nhỏ, được coi là 1 cặp **matching feature** "
   ]
  },
  {
   "cell_type": "markdown",
   "id": "c6aaab98",
   "metadata": {},
   "source": [
    "* 🔗 Concatanate **ROI 1** và **ROI 2**"
   ]
  },
  {
   "cell_type": "markdown",
   "id": "f1476c8f",
   "metadata": {},
   "source": [
    "* 🔍 Ước lượng phép biến đổi hình học (**geomtric transformation**) dựa trên **matching feature** đã tìm được ở trên"
   ]
  },
  {
   "cell_type": "markdown",
   "id": "2015a9b7",
   "metadata": {},
   "source": [
    "* 📝 Kiểm tra xem có **đủ features** trong phép biến đổi hình học cho mỗi **ROI** không? nếu không thì làm lại từ đầu"
   ]
  },
  {
   "cell_type": "markdown",
   "id": "b3e82dc5",
   "metadata": {},
   "source": [
    "* Tích lũy **~ 20 lần** các phép biến đổi này để tránh nhiễu\n",
    "* Nếu **số lượng** phép biến đổi ít hơn **5** thì **lower threshold** và **reset iterations**"
   ]
  },
  {
   "cell_type": "markdown",
   "id": "0f25020d",
   "metadata": {},
   "source": [
    "* 📊 Sau cùng, **apply mean transformation**"
   ]
  },
  {
   "cell_type": "markdown",
   "id": "3cf9ab3b",
   "metadata": {},
   "source": [
    "⚠️ *Note: việc chạy lại vẫn giữ nguyên `ảnh tham chiếu`, chỉ chạy lại thuật toán `SURF` do tính ngẫu nhiên khi detect features*"
   ]
  },
  {
   "cell_type": "markdown",
   "id": "10519668",
   "metadata": {},
   "source": [
    "# Trang 7"
   ]
  },
  {
   "cell_type": "code",
   "execution_count": null,
   "id": "ab849565",
   "metadata": {},
   "outputs": [],
   "source": []
  }
 ],
 "metadata": {
  "kernelspec": {
   "display_name": "Python 3 (ipykernel)",
   "language": "python",
   "name": "python3"
  },
  "language_info": {
   "codemirror_mode": {
    "name": "ipython",
    "version": 3
   },
   "file_extension": ".py",
   "mimetype": "text/x-python",
   "name": "python",
   "nbconvert_exporter": "python",
   "pygments_lexer": "ipython3",
   "version": "3.9.13"
  },
  "toc": {
   "base_numbering": 1,
   "nav_menu": {},
   "number_sections": true,
   "sideBar": true,
   "skip_h1_title": false,
   "title_cell": "Table of Contents",
   "title_sidebar": "Contents",
   "toc_cell": false,
   "toc_position": {},
   "toc_section_display": true,
   "toc_window_display": false
  }
 },
 "nbformat": 4,
 "nbformat_minor": 5
}
